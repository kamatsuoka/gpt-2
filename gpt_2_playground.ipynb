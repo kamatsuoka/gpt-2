{
  "nbformat": 4,
  "nbformat_minor": 0,
  "metadata": {
    "colab": {
      "name": "gpt-2-playground.ipynb",
      "version": "0.3.2",
      "provenance": [],
      "include_colab_link": true
    },
    "language_info": {
      "codemirror_mode": {
        "name": "ipython",
        "version": 3
      },
      "file_extension": ".py",
      "mimetype": "text/x-python",
      "name": "python",
      "nbconvert_exporter": "python",
      "pygments_lexer": "ipython3",
      "version": "3.7.3"
    },
    "kernelspec": {
      "display_name": "Python 3",
      "language": "python",
      "name": "python3"
    },
    "accelerator": "GPU"
  },
  "cells": [
    {
      "cell_type": "markdown",
      "metadata": {
        "id": "view-in-github",
        "colab_type": "text"
      },
      "source": [
        "<a href=\"https://colab.research.google.com/github/kamatsuoka/gpt-2/blob/master/gpt_2_playground.ipynb\" target=\"_parent\"><img src=\"https://colab.research.google.com/assets/colab-badge.svg\" alt=\"Open In Colab\"/></a>"
      ]
    },
    {
      "cell_type": "markdown",
      "metadata": {
        "colab_type": "text",
        "id": "tI-HVDbQS9dF"
      },
      "source": [
        "# GPT-2 Playground\n",
        "\n",
        "# Background\n",
        "In this notebook you can play around with the medium (**345M** parameter) version of **Open AI's GPT-2** model<br/>\n",
        "from the paper **[Language Models are Unsupervised Multitask Learners](https://d4mucfpksywv.cloudfront.net/better-language-models/language-models.pdf)**\n",
        "\n",
        "\n"
      ]
    },
    {
      "cell_type": "markdown",
      "metadata": {
        "colab_type": "text",
        "id": "lil_k1vVuEt-"
      },
      "source": [
        "##1. Install Code and Data\n",
        "Download the model data and install Python libraries.   This will take a minute.\n"
      ]
    },
    {
      "cell_type": "code",
      "metadata": {
        "id": "mLtLRI99TS2z",
        "colab_type": "code",
        "colab": {}
      },
      "source": [
        "import os\n",
        "import sys\n",
        "basedir = '/content' # specific to colaboratory\n",
        "os.chdir(basedir)\n",
        "os.environ['TF_CPP_MIN_LOG_LEVEL'] = '3'\n",
        "!rm -rf gpt-2\n",
        "!git clone -q https://github.com/kamatsuoka/gpt-2/\n",
        "os.chdir('gpt-2')\n",
        "sys.path.append(os.getcwd() + '/src')\n",
        "!pip3 --quiet install -r requirements.txt\n",
        "!python download_model.py 345M --quiet\n",
        "from src.conditional_samples import restore_model, generate_samples\n",
        "sess, hparams, sequence_output, enc, placeholders = restore_model()\n"
      ],
      "execution_count": 0,
      "outputs": []
    },
    {
      "cell_type": "markdown",
      "metadata": {
        "colab_type": "text",
        "id": "ycov0bwftzie"
      },
      "source": [
        "## 2. Generate text\n",
        "\n",
        "Enter starting text and optionally change the numeric parameters below.<br>\n",
        "Then run the cell to generate text based on your starting text."
      ]
    },
    {
      "cell_type": "code",
      "metadata": {
        "id": "G-8k0v3rTS24",
        "colab_type": "code",
        "colab": {},
        "cellView": "form"
      },
      "source": [
        "#@markdown ### Starting text:\n",
        "text = \"\" #@param {type:\"string\"}\n",
        "#@markdown ### Samples to generate:\n",
        "nsamples = 3 #@param {type:\"slider\", min:1, max:5, step:1}\n",
        "#@markdown ### Number of words per sample:\n",
        "length = 200 #@param {type:\"slider\", min:10, max:200, step:1}\n",
        "#@markdown ### Randomness:\n",
        "temperature = 0.9 #@param {type:\"slider\", min:0, max:1, step:0.01}\n",
        "#@markdown ### Diversity:\n",
        "top_k = 40 #@param {type:\"slider\", min:0, max:80, step:1}\n",
        "\n",
        "samples = generate_samples(\n",
        "        sess,\n",
        "        hparams,\n",
        "        sequence_output,\n",
        "        enc,\n",
        "        placeholders,\n",
        "        starting_text = text,\n",
        "        nsamples=nsamples,\n",
        "        length=length,\n",
        "        temperature=temperature,\n",
        "        top_k=top_k)\n",
        "\n",
        "from IPython.display import display, HTML\n",
        "\n",
        "def text_to_html(text: str):\n",
        "    return text.replace(\"\\n\", \"<br/>\").split('<|endoftext|>')[0]\n",
        "\n",
        "display(HTML(\"<h1>Starting text</h1>\" + text + \"<h1>Samples</h1>\"))\n",
        "for sample in samples:\n",
        "  display(HTML(text_to_html(sample) + \"<hr/>\"))\n",
        "  "
      ],
      "execution_count": 0,
      "outputs": []
    }
  ]
}