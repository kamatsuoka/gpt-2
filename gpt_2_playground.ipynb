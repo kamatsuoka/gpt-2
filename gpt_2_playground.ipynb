{
  "nbformat": 4,
  "nbformat_minor": 0,
  "metadata": {
    "colab": {
      "name": "gpt-2-playground.ipynb",
      "version": "0.3.2",
      "provenance": [],
      "include_colab_link": true
    },
    "kernelspec": {
      "name": "python3",
      "display_name": "Python 3"
    },
    "accelerator": "GPU"
  },
  "cells": [
    {
      "cell_type": "markdown",
      "metadata": {
        "id": "view-in-github",
        "colab_type": "text"
      },
      "source": [
        "<a href=\"https://colab.research.google.com/github/kamatsuoka/gpt-2/blob/master/gpt_2_playground.ipynb\" target=\"_parent\"><img src=\"https://colab.research.google.com/assets/colab-badge.svg\" alt=\"Open In Colab\"/></a>"
      ]
    },
    {
      "cell_type": "markdown",
      "metadata": {
        "id": "tI-HVDbQS9dF",
        "colab_type": "text"
      },
      "source": [
        "# GPT-2 Playground\n",
        "\n",
        "# Background\n",
        "In this notebook you can play around with the medium (**345M** parameter) version of **Open AI's GPT-2** model<br/>\n",
        "from the paper **[Language Models are Unsupervised Multitask Learners](https://d4mucfpksywv.cloudfront.net/better-language-models/language-models.pdf)**\n",
        "\n",
        "\n"
      ]
    },
    {
      "cell_type": "markdown",
      "metadata": {
        "id": "lil_k1vVuEt-",
        "colab_type": "text"
      },
      "source": [
        "##1. Install Code and Data\n",
        "Download the model data and install Python libraries.   This will take a minute.\n"
      ]
    },
    {
      "cell_type": "code",
      "metadata": {
        "colab_type": "code",
        "id": "Qgz0tHHUJ1AJ",
        "colab": {}
      },
      "source": [
        "import os\n",
        "import sys\n",
        "basedir = '/content' # specific to colaboratory\n",
        "os.chdir(basedir)\n",
        "os.environ['TF_CPP_MIN_LOG_LEVEL'] = '3'\n",
        "!rm -rf gpt-2\n",
        "!git clone -q https://github.com/kamatsuoka/gpt-2/ --branch print_to_stdout\n",
        "os.chdir('gpt-2')\n",
        "sys.path.append(os.getcwd() + '/src')\n",
        "!pip3 --quiet install -r requirements.txt\n",
        "from src.conditional_samples import run_model\n",
        "!python download_model.py 345M --quiet\n"
      ],
      "execution_count": 0,
      "outputs": []
    },
    {
      "cell_type": "markdown",
      "metadata": {
        "id": "ycov0bwftzie",
        "colab_type": "text"
      },
      "source": [
        "## 2. Generate text\n",
        "\n",
        "Enter starting text and optionally change the numeric parameters below.<br>\n",
        "Then run the cell to generate text based on your starting text."
      ]
    },
    {
      "cell_type": "code",
      "metadata": {
        "id": "HvPy6eE1aYEI",
        "colab_type": "code",
        "cellView": "form",
        "colab": {}
      },
      "source": [
        "#@markdown ### Starting text:\n",
        "text = '' #@param {type:\"string\"}\n",
        "#@markdown ### Samples to generate:\n",
        "nsamples = 1 #@param {type:\"slider\", min:1, max:5, step:1}\n",
        "#@markdown ### Number of words per sample:\n",
        "length = 100 #@param {type:\"slider\", min:10, max:200, step:1}\n",
        "#@markdown ### Randomness:\n",
        "temperature = 0.9 #@param {type:\"slider\", min:0, max:1, step:0.01}\n",
        "#@markdown ### Diversity:\n",
        "top_k = 40 #@param {type:\"slider\", min:0, max:80, step:1}\n",
        "\n",
        "run_model(starting_text=text, nsamples=nsamples, length=length,\n",
        "          temperature=temperature, top_k=top_k)\n",
        "\n"
      ],
      "execution_count": 0,
      "outputs": []
    }
  ]
}